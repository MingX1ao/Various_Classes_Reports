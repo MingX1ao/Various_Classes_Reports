{
 "cells": [
  {
   "cell_type": "code",
   "execution_count": 1,
   "id": "a3465da6",
   "metadata": {},
   "outputs": [],
   "source": [
    "import pandas as pd\n",
    "import numpy as np\n",
    "import scipy.stats as stats\n",
    "import matplotlib as plt"
   ]
  },
  {
   "cell_type": "code",
   "execution_count": 2,
   "id": "3ab55304",
   "metadata": {},
   "outputs": [],
   "source": [
    "def calc_ci(df, alpha):\n",
    "    n = len(df)\n",
    "    s = df.var(ddof=1) ** 0.5\n",
    "    m = df.mean()\n",
    "    isf = stats.t.isf(alpha/2, n-1)     #方差未知，用样本方差，做t检验\n",
    "    moe = isf * s / (n ** 0.5)\n",
    "    return m-moe, m+moe"
   ]
  },
  {
   "cell_type": "code",
   "execution_count": 3,
   "id": "065113a7",
   "metadata": {
    "collapsed": true
   },
   "outputs": [
    {
     "name": "stdout",
     "output_type": "stream",
     "text": [
      "(4.135891407397427, 6.7081085926025725)\n",
      "1.035794381139423\n",
      "5.422\n"
     ]
    }
   ],
   "source": [
    "beforeCD11b=np.array([6.83, 3.91, 5.57, 5.4, 5.4])\n",
    "print(calc_ci(beforeCD11b, 0.05))\n",
    "print(beforeCD11b.var(ddof=1)**0.5)\n",
    "print(beforeCD11b.mean())"
   ]
  },
  {
   "cell_type": "code",
   "execution_count": 4,
   "id": "c72d0a64",
   "metadata": {
    "collapsed": true
   },
   "outputs": [
    {
     "name": "stdout",
     "output_type": "stream",
     "text": [
      "(22.2342679303916, 28.165732069608406)\n",
      "2.388514182499237\n",
      "25.200000000000003\n"
     ]
    }
   ],
   "source": [
    "beforeCD3=np.array([21.6, 28.3, 25.7, 25.2, 25.2])\n",
    "print(calc_ci(beforeCD3, 0.05))\n",
    "print(beforeCD3.var(ddof=1)**0.5)\n",
    "print(beforeCD3.mean())"
   ]
  },
  {
   "cell_type": "code",
   "execution_count": 5,
   "id": "95277687",
   "metadata": {
    "collapsed": true
   },
   "outputs": [
    {
     "name": "stdout",
     "output_type": "stream",
     "text": [
      "(17.60132930163103, 55.87867069836898)\n",
      "15.413727647782025\n",
      "36.74\n"
     ]
    }
   ],
   "source": [
    "afterTCD11b=np.array([45.2, 46.5, 51.7, 18.0, 22.3])\n",
    "print(calc_ci(afterTCD11b, 0.05))\n",
    "print(afterTCD11b.var(ddof=1)**0.5)\n",
    "print(afterTCD11b.mean())"
   ]
  },
  {
   "cell_type": "code",
   "execution_count": 6,
   "id": "3fcf8ed0",
   "metadata": {
    "collapsed": true
   },
   "outputs": [
    {
     "name": "stdout",
     "output_type": "stream",
     "text": [
      "(5.364140075853521, 20.06785992414648)\n",
      "5.920973737486089\n",
      "12.716\n"
     ]
    }
   ],
   "source": [
    "afterTCD3=np.array([8.97, 8.75, 7.96, 21.2, 16.7])\n",
    "print(calc_ci(afterTCD3, 0.05))\n",
    "print(afterTCD3.var(ddof=1)**0.5)\n",
    "print(afterTCD3.mean())"
   ]
  },
  {
   "cell_type": "code",
   "execution_count": 7,
   "id": "44b13f69",
   "metadata": {
    "collapsed": true
   },
   "outputs": [
    {
     "name": "stdout",
     "output_type": "stream",
     "text": [
      "(2.333370418708878, 5.610629581291123)\n",
      "1.3197045123814648\n",
      "3.9720000000000004\n"
     ]
    }
   ],
   "source": [
    "afterFCD11b=np.array([3.95, 2.61, 4.58, 5.85, 2.87])\n",
    "print(calc_ci(afterFCD11b, 0.05))\n",
    "print(afterFCD11b.var(ddof=1)**0.5)\n",
    "print(afterFCD11b.mean())"
   ]
  },
  {
   "cell_type": "code",
   "execution_count": 8,
   "id": "619841f9",
   "metadata": {
    "collapsed": true
   },
   "outputs": [
    {
     "name": "stdout",
     "output_type": "stream",
     "text": [
      "(19.48051720489714, 25.23948279510286)\n",
      "2.31905153025973\n",
      "22.36\n"
     ]
    }
   ],
   "source": [
    "afterFCD3=np.array([20.5, 25.9, 23.5, 20.6, 21.3])\n",
    "print(calc_ci(afterFCD3, 0.05))\n",
    "print(afterFCD3.var(ddof=1)**0.5)\n",
    "print(afterFCD3.mean())"
   ]
  },
  {
   "cell_type": "code",
   "execution_count": 9,
   "id": "50e7907e",
   "metadata": {},
   "outputs": [],
   "source": [
    "import pingouin as pg"
   ]
  },
  {
   "cell_type": "code",
   "execution_count": 10,
   "id": "e03118fe",
   "metadata": {
    "collapsed": true
   },
   "outputs": [
    {
     "name": "stdout",
     "output_type": "stream",
     "text": [
      "    Value   Group TimePoint\n",
      "0    6.83  Before     CD11b\n",
      "1    3.91  Before     CD11b\n",
      "2    5.57  Before     CD11b\n",
      "3    5.40  Before     CD11b\n",
      "4    5.40  Before     CD11b\n",
      "5   45.20  AfterT     CD11b\n",
      "6   46.50  AfterT     CD11b\n",
      "7   51.70  AfterT     CD11b\n",
      "8   18.00  AfterT     CD11b\n",
      "9   22.30  AfterT     CD11b\n",
      "10   3.95  AfterF     CD11b\n",
      "11   2.61  AfterF     CD11b\n",
      "12   4.58  AfterF     CD11b\n",
      "13   5.85  AfterF     CD11b\n",
      "14   2.87  AfterF     CD11b\n"
     ]
    }
   ],
   "source": [
    "CD11b = pd.DataFrame({\n",
    "    'Value': np.concatenate([beforeCD11b, afterTCD11b, afterFCD11b]),\n",
    "    'Group': ['Before'] * 5 + ['AfterT'] * 5 + ['AfterF'] * 5,\n",
    "    'TimePoint': ['CD11b'] * 10 + ['CD11b'] * 5\n",
    "})\n",
    "\n",
    "print(CD11b)"
   ]
  },
  {
   "cell_type": "code",
   "execution_count": 11,
   "id": "c1b1f0d1",
   "metadata": {
    "collapsed": true
   },
   "outputs": [
    {
     "name": "stdout",
     "output_type": "stream",
     "text": [
      "   Source          SS  DF           MS          F     p-unc       np2\n",
      "0   Group  3427.76908   2  1713.884540  21.388134  0.000111  0.780927\n",
      "1  Within   961.58996  12    80.132497        NaN       NaN       NaN\n"
     ]
    }
   ],
   "source": [
    "aovCD11b = pg.anova(data=CD11b, dv=\"Value\", between=\"Group\", detailed=True,effsize=\"np2\")\n",
    "print(aovCD11b)"
   ]
  },
  {
   "cell_type": "code",
   "execution_count": 12,
   "id": "a3bd02c5",
   "metadata": {
    "collapsed": true
   },
   "outputs": [
    {
     "name": "stdout",
     "output_type": "stream",
     "text": [
      "        A       B  mean(A)  mean(B)    diff        se         T   p-tukey  \\\n",
      "0  AfterF  AfterT    3.972   36.740 -32.768  5.661537 -5.787828  0.000236   \n",
      "1  AfterF  Before    3.972    5.422  -1.450  5.661537 -0.256114  0.964592   \n",
      "2  AfterT  Before   36.740    5.422  31.318  5.661537  5.531714  0.000352   \n",
      "\n",
      "     hedges  \n",
      "0 -2.705625  \n",
      "1 -1.104026  \n",
      "2  2.589520  \n"
     ]
    }
   ],
   "source": [
    "pt11 = CD11b.pairwise_tukey(dv=\"Value\", between=\"Group\")\n",
    "print(pt11)"
   ]
  },
  {
   "cell_type": "code",
   "execution_count": 13,
   "id": "263b2d36",
   "metadata": {
    "collapsed": true
   },
   "outputs": [
    {
     "name": "stdout",
     "output_type": "stream",
     "text": [
      "    Value   Group TimePoint\n",
      "0    6.83  Before     CD11b\n",
      "1    3.91  Before     CD11b\n",
      "2    5.57  Before     CD11b\n",
      "3    5.40  Before     CD11b\n",
      "4    5.40  Before     CD11b\n",
      "5   45.20  AfterT     CD11b\n",
      "6   46.50  AfterT     CD11b\n",
      "7   51.70  AfterT     CD11b\n",
      "8   18.00  AfterT     CD11b\n",
      "9   22.30  AfterT     CD11b\n",
      "10   3.95  AfterF     CD11b\n",
      "11   2.61  AfterF     CD11b\n",
      "12   4.58  AfterF     CD11b\n",
      "13   5.85  AfterF     CD11b\n",
      "14   2.87  AfterF     CD11b\n"
     ]
    }
   ],
   "source": [
    "CD3 = pd.DataFrame({\n",
    "    'Value': np.concatenate([beforeCD3, afterTCD3, afterFCD3]),\n",
    "    'Group': ['Before'] * 5 + ['AfterT'] * 5 + ['AfterF'] * 5,\n",
    "    'TimePoint': ['CD3'] * 10 + ['CD3'] * 5\n",
    "})\n",
    "\n",
    "print(CD11b)"
   ]
  },
  {
   "cell_type": "code",
   "execution_count": 14,
   "id": "f0d5346a",
   "metadata": {
    "collapsed": true
   },
   "outputs": [
    {
     "name": "stdout",
     "output_type": "stream",
     "text": [
      "   Source         SS  DF         MS          F     p-unc       np2\n",
      "0   Group  428.20432   2  214.10216  13.920536  0.000747  0.698803\n",
      "1  Within  184.56372  12   15.38031        NaN       NaN       NaN\n"
     ]
    }
   ],
   "source": [
    "aovCD3 = pg.anova(data=CD3, dv=\"Value\", between=\"Group\", detailed=True,effsize=\"np2\")\n",
    "print(aovCD3)"
   ]
  },
  {
   "cell_type": "code",
   "execution_count": 15,
   "id": "390a0108",
   "metadata": {
    "collapsed": true
   },
   "outputs": [
    {
     "name": "stdout",
     "output_type": "stream",
     "text": [
      "        A       B  mean(A)  mean(B)    diff        se         T   p-tukey  \\\n",
      "0  AfterF  AfterT   22.360   12.716   9.644  2.480348  3.888165  0.005649   \n",
      "1  AfterF  Before   22.360   25.200  -2.840  2.480348 -1.145001  0.506287   \n",
      "2  AfterT  Before   12.716   25.200 -12.484  2.480348 -5.033166  0.000790   \n",
      "\n",
      "     hedges  \n",
      "0  1.937246  \n",
      "1 -1.089685  \n",
      "2 -2.497655  \n"
     ]
    }
   ],
   "source": [
    "pt3 = CD3.pairwise_tukey(dv=\"Value\", between=\"Group\")\n",
    "print(pt3)"
   ]
  },
  {
   "cell_type": "code",
   "execution_count": 16,
   "id": "c9f8a146",
   "metadata": {},
   "outputs": [],
   "source": [
    "import seaborn as sns\n",
    "from statannot import add_stat_annotation"
   ]
  },
  {
   "cell_type": "code",
   "execution_count": 17,
   "id": "36742863",
   "metadata": {
    "collapsed": true
   },
   "outputs": [
    {
     "name": "stdout",
     "output_type": "stream",
     "text": [
      "p-value annotation legend:\n",
      "ns: 5.00e-02 < p <= 1.00e+00\n",
      "*: 1.00e-02 < p <= 5.00e-02\n",
      "**: 1.00e-03 < p <= 1.00e-02\n",
      "***: 1.00e-04 < p <= 1.00e-03\n",
      "****: p <= 1.00e-04\n",
      "\n",
      "Before v.s. AfterT: t-test independent samples with Bonferroni correction, P_val=5.750e-03 stat=-4.533e+00\n",
      "AfterT v.s. AfterF: t-test independent samples with Bonferroni correction, P_val=4.413e-03 stat=4.736e+00\n",
      "Before v.s. AfterF: t-test independent samples with Bonferroni correction, P_val=2.681e-01 stat=1.933e+00\n"
     ]
    },
    {
     "data": {
      "text/plain": [
       "(<Axes: xlabel='Group', ylabel='Value'>,\n",
       " [<statannot.StatResult.StatResult at 0x2665ae44cd0>,\n",
       "  <statannot.StatResult.StatResult at 0x2665ae76610>,\n",
       "  <statannot.StatResult.StatResult at 0x2665b0b2490>])"
      ]
     },
     "execution_count": 17,
     "metadata": {},
     "output_type": "execute_result"
    },
    {
     "data": {
      "image/png": "[encoded data removed]",
      "text/plain": [
       "<Figure size 640x480 with 1 Axes>"
      ]
     },
     "metadata": {},
     "output_type": "display_data"
    }
   ],
   "source": [
    "ax = sns.barplot(data=CD11b, x=\"Group\", y=\"Value\", hue=\"Group\", errorbar=(\"ci\", 95), errcolor=\"black\",\n",
    "            capsize=0.1, errwidth=2, dodge=False)\n",
    "sns.scatterplot(data=CD11b, x=\"Group\", y=\"Value\", color=\"r\")\n",
    "significant_pairs = [(\"Before\", \"AfterT\"), (\"Before\", \"AfterF\")]\n",
    "add_stat_annotation(ax=ax, data=CD11b, x=\"Group\", y=\"Value\",\n",
    "                    box_pairs=[(\"Before\", \"AfterT\"), (\"Before\", \"AfterF\"), (\"AfterT\", \"AfterF\")],\n",
    "                    test='t-test_ind', text_format='star', loc='inside', verbose=2)"
   ]
  },
  {
   "cell_type": "code",
   "execution_count": 18,
   "id": "cb816b70",
   "metadata": {
    "collapsed": true
   },
   "outputs": [
    {
     "name": "stdout",
     "output_type": "stream",
     "text": [
      "p-value annotation legend:\n",
      "ns: 5.00e-02 < p <= 1.00e+00\n",
      "*: 1.00e-02 < p <= 5.00e-02\n",
      "**: 1.00e-03 < p <= 1.00e-02\n",
      "***: 1.00e-04 < p <= 1.00e-03\n",
      "****: p <= 1.00e-04\n",
      "\n",
      "Before v.s. AfterT: t-test independent samples with Bonferroni correction, P_val=5.750e-03 stat=-4.533e+00\n",
      "AfterT v.s. AfterF: t-test independent samples with Bonferroni correction, P_val=4.413e-03 stat=4.736e+00\n",
      "Before v.s. AfterF: t-test independent samples with Bonferroni correction, P_val=2.681e-01 stat=1.933e+00\n"
     ]
    },
    {
     "data": {
      "text/plain": [
       "(<Axes: xlabel='Group', ylabel='Value'>,\n",
       " [<statannot.StatResult.StatResult at 0x2665af71190>,\n",
       "  <statannot.StatResult.StatResult at 0x2665af7e410>,\n",
       "  <statannot.StatResult.StatResult at 0x2665af191d0>])"
      ]
     },
     "execution_count": 18,
     "metadata": {},
     "output_type": "execute_result"
    },
    {
     "data": {
      "image/png": "[encoded data removed]",
      "text/plain": [
       "<Figure size 640x480 with 1 Axes>"
      ]
     },
     "metadata": {},
     "output_type": "display_data"
    }
   ],
   "source": [
    "ax = sns.barplot(data=CD3, x=\"Group\", y=\"Value\", hue=\"Group\", errorbar=(\"ci\", 95), errcolor=\"black\",\n",
    "            capsize=0.1, errwidth=2, dodge=False)\n",
    "sns.scatterplot(data=CD3, x=\"Group\", y=\"Value\", color=\"r\")\n",
    "significant_pairs = [(\"Before\", \"AfterT\"), (\"Before\", \"AfterF\")]\n",
    "add_stat_annotation(ax=ax, data=CD11b, x=\"Group\", y=\"Value\",\n",
    "                    box_pairs=[(\"Before\", \"AfterT\"), (\"Before\", \"AfterF\"), (\"AfterT\", \"AfterF\")],\n",
    "                    test='t-test_ind', text_format='star', loc='inside', verbose=2)"
   ]
  }
 ],
 "metadata": {
  "kernelspec": {
   "display_name": "Python 3 (ipykernel)",
   "language": "python",
   "name": "python3"
  },
  "language_info": {
   "codemirror_mode": {
    "name": "ipython",
    "version": 3
   },
   "file_extension": ".py",
   "mimetype": "text/x-python",
   "name": "python",
   "nbconvert_exporter": "python",
   "pygments_lexer": "ipython3",
   "version": "3.11.5"
  }
 },
 "nbformat": 4,
 "nbformat_minor": 5
}
