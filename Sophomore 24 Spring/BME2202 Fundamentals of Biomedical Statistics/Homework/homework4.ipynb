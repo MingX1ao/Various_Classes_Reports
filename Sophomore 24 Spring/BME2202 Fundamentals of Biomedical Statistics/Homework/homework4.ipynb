{
 "cells": [
  {
   "cell_type": "markdown",
   "id": "2de51192",
   "metadata": {},
   "source": [
    "# Unit 4 Homework"
   ]
  },
  {
   "cell_type": "code",
   "execution_count": 107,
   "id": "f47d1146",
   "metadata": {},
   "outputs": [],
   "source": [
    "import pandas as pd\n",
    "import scipy.stats as stats\n",
    "import numpy as np"
   ]
  },
  {
   "cell_type": "markdown",
   "id": "a042fd60",
   "metadata": {},
   "source": [
    "## 1 单个比例的推断"
   ]
  },
  {
   "cell_type": "markdown",
   "id": "3df35932",
   "metadata": {},
   "source": [
    "### 从某个学校随机抽取一个班级60名学生，如果男生与女生分别是26，34人，请用置信区间和零假设显著性检验两种方法，推断这个学校的男生与女生比例是否相等"
   ]
  },
  {
   "cell_type": "markdown",
   "id": "3e0a1e91",
   "metadata": {},
   "source": [
    "$$\\hat{p_1}=\\frac{26}{60},\\hat{p_2}=\\frac{34}{60}$$\n",
    "$$\\Rightarrow \\hat{p_1} \\sim N(p_1,\\frac{\\hat{p_1}(1-\\hat{p_1})}{n}),\\hat{p_2} \\sim N(p_2,\\frac{\\hat{p_2}(1-\\hat{p_2})}{n})$$\n",
    "$$\\therefore \\hat{p_1}-\\hat{p_2}\\sim N(p_1-p_2,\\frac{\\hat{p_1}(1-\\hat{p_1})}{n_1}+\\frac{\\hat{p_2}(1-\\hat{p_2})}{n_2})$$"
   ]
  },
  {
   "cell_type": "markdown",
   "id": "50c3dec6",
   "metadata": {},
   "source": [
    "#### 1.1 CI "
   ]
  },
  {
   "cell_type": "code",
   "execution_count": 108,
   "id": "319c9a03",
   "metadata": {
    "scrolled": true
   },
   "outputs": [
    {
     "name": "stdout",
     "output_type": "stream",
     "text": [
      "the 95%CI of the proportion_diff is (-0.3106552209519928, 0.04398855428532622)\n"
     ]
    }
   ],
   "source": [
    "def proportion_diff(m1,n1,m2,n2,alpha=0.05):\n",
    "    p1,p2=m1/n1,m2/n2\n",
    "    za=stats.norm.isf(q=alpha/2,loc=0,scale=1)\n",
    "    moe=za*np.sqrt(p1*(1-p1)/n1+p2*(1-p2)/n2)\n",
    "    return p1-p2-moe, p1-p2+moe\n",
    "print(\"the 95%CI of the proportion_diff is\", proportion_diff(26,60,34,60))"
   ]
  },
  {
   "cell_type": "markdown",
   "id": "ef7b8e56",
   "metadata": {},
   "source": [
    "95%CI包含了0，认为p1和p2没有统计显著性差异"
   ]
  },
  {
   "cell_type": "markdown",
   "id": "f4be3e50",
   "metadata": {},
   "source": [
    "#### 1.2 NHST"
   ]
  },
  {
   "cell_type": "code",
   "execution_count": 109,
   "id": "4587a1c7",
   "metadata": {},
   "outputs": [],
   "source": [
    "from statsmodels.stats.proportion import proportions_ztest"
   ]
  },
  {
   "cell_type": "code",
   "execution_count": 110,
   "id": "43778b29",
   "metadata": {},
   "outputs": [
    {
     "name": "stdout",
     "output_type": "stream",
     "text": [
      "枢轴量的值为 -1.4605934866804426 ，对应的p值为 0.14412703481601533\n"
     ]
    }
   ],
   "source": [
    "z, p = proportions_ztest([26,34], [60,60], alternative=\"two-sided\")\n",
    "print(\"枢轴量的值为\", z, \"，对应的p值为\", p)"
   ]
  },
  {
   "cell_type": "markdown",
   "id": "529320f4",
   "metadata": {},
   "source": [
    "综合CI和NHST，认为男生和女生的比例相等（z=-1.46, p=.144, 95%CI=[-0.311,0.0440]）"
   ]
  },
  {
   "cell_type": "markdown",
   "id": "4b35c06b",
   "metadata": {},
   "source": [
    "## 2 两个比例的差异的推断+RC联立表"
   ]
  },
  {
   "cell_type": "markdown",
   "id": "02b1461b",
   "metadata": {},
   "source": [
    "### Prenatal vitamins and Autism"
   ]
  },
  {
   "cell_type": "markdown",
   "id": "b3d14655",
   "metadata": {},
   "source": [
    "#### (a) State appropriate hypotheses to test for independence of use of prenatal vitamins during the three months before pregnancy and autism."
   ]
  },
  {
   "cell_type": "markdown",
   "id": "0c9c9b27",
   "metadata": {},
   "source": [
    "Let $p_1$ be the proportion of the proportion of Autism in human beings whose mum do **not** eat vitamin,while $p_2$ be another part.   \n",
    "$H_0:p_1=p_2$  \n",
    "$H_1:p_1\\neq p_2$"
   ]
  },
  {
   "cell_type": "markdown",
   "id": "fb29d4da",
   "metadata": {},
   "source": [
    "#### (b) Complete the hypothesis test and state an appropriate conclusion"
   ]
  },
  {
   "cell_type": "markdown",
   "id": "d8e4ea6d",
   "metadata": {},
   "source": [
    "我要做两个独立样本的比例的z检验  \n",
    "必要条件：  \n",
    "1. 两个样本独立：独立，不是一个妈妈\n",
    "2. 两个样本正态：样本量足够大，由中心极限定理，二项分布的和近似于正态分布\n",
    "3. 已知的条件：已知的得了病和不得病的人都不少，样本的偏度不大；样本少于总体的5%，是的，全球不止9000位婴儿  \n",
    "\n",
    "故样本满足条件，可以做z检验"
   ]
  },
  {
   "cell_type": "code",
   "execution_count": 111,
   "id": "b1aca119",
   "metadata": {},
   "outputs": [
    {
     "name": "stdout",
     "output_type": "stream",
     "text": [
      "枢轴量的值为 2.977369375514587 ，对应的p值为 0.0029073350392922167\n",
      "95%CI= (0.04916981544367888, 0.23032965402322686)\n"
     ]
    }
   ],
   "source": [
    "count = [111, 143]\n",
    "nobs = [181, 302]\n",
    "z, p = proportions_ztest(count, nobs, alternative=\"two-sided\")\n",
    "print(\"枢轴量的值为\", z, \"，对应的p值为\", p)\n",
    "print(\"95%CI=\", proportion_diff(111, 181, 143, 302))"
   ]
  },
  {
   "cell_type": "markdown",
   "id": "e6e224e6",
   "metadata": {},
   "source": [
    "根据zTest，认为在围产期服用维生素和不服用维生素所导致的新生儿自闭症比例存在显著差异（z=2.98, p=.003, 95%CI=[0.05,0.23]）"
   ]
  },
  {
   "cell_type": "code",
   "execution_count": 112,
   "id": "ea4305d5",
   "metadata": {},
   "outputs": [
    {
     "name": "stdout",
     "output_type": "stream",
     "text": [
      "            Autism  Typcial\n",
      "No vitamin     111       70\n",
      "Vitamin        143      159\n",
      "chi2= 8.313087689634902 ,dof= 1 ,p= 0.0039360422189643465\n",
      "Cramer's V= 0.13119207931983826\n",
      "expected table\n",
      "                Autism     Typcial\n",
      "No vitamin   95.184265   85.815735\n",
      "Vitamin     158.815735  143.184265\n"
     ]
    }
   ],
   "source": [
    "data = pd.DataFrame([[111,70],[143,159]],\n",
    "                    index=[\"No vitamin\", \"Vitamin\"],\n",
    "                    columns=[\"Autism\", \"Typcial\"])\n",
    "print(data)\n",
    "chi2,p,dof,expected=stats.chi2_contingency(data)\n",
    "print(\"chi2=\", chi2,\",dof=\", dof, \",p=\", p)\n",
    "V = (chi2 / 483) ** 0.5\n",
    "print(\"Cramer's V=\", V)\n",
    "dataExp = pd.DataFrame(expected,\n",
    "                    index=[\"No vitamin\", \"Vitamin\"],\n",
    "                    columns=[\"Autism\", \"Typcial\"])\n",
    "print(\"expected table\")\n",
    "print(dataExp)"
   ]
  },
  {
   "cell_type": "markdown",
   "id": "9b8a78f7",
   "metadata": {},
   "source": [
    "根据RC联表卡方检验，认为自闭症的比例和吃不吃维生素存在显著弱关联（chi2(1)=8.31, p=.004,Cramer's V=0.13）"
   ]
  },
  {
   "cell_type": "markdown",
   "id": "ed1ee8cf",
   "metadata": {},
   "source": [
    "#### (c)标题"
   ]
  },
  {
   "cell_type": "markdown",
   "id": "3f95e351",
   "metadata": {},
   "source": [
    "原标题不太合适，检验过程用的是双边检验，不过很显然单边一定成立，可以再做一次单边检验；这个标题像广告；我拟一个：\"Autism is related to whether mums eat vitamin\""
   ]
  },
  {
   "cell_type": "markdown",
   "id": "aa642d51",
   "metadata": {},
   "source": [
    "## 3 拟合优度检验"
   ]
  },
  {
   "cell_type": "markdown",
   "id": "7da0e821",
   "metadata": {},
   "source": [
    "使用每组的中间值作为样本观测值，得到如下表格  \n",
    "| |E1|E2|E3|E4|E5|E6|E7|E8|E9|E10|E11|E12|\n",
    "|--|--|--|--|--|--|--|--|--|--|--|--|--|\n",
    "|身高|137.5|142.5|147.5|152.5|157.5|162.5|167.5|172.5|177.5|182.5|187.5|192.5|\n",
    "|人数|0|5|18|22|35|50|40|25|10|3|0|0|"
   ]
  },
  {
   "cell_type": "markdown",
   "id": "4e04d420",
   "metadata": {},
   "source": [
    "### 3.1 推断这个学校的学生身高是否服从正态分布"
   ]
  },
  {
   "cell_type": "code",
   "execution_count": 119,
   "id": "a685679d",
   "metadata": {},
   "outputs": [
    {
     "name": "stdout",
     "output_type": "stream",
     "text": [
      "6.96563130353936 0.6406978176617868\n"
     ]
    }
   ],
   "source": [
    "#计算应该服从的正态分布参数\n",
    "height = np.linspace(137.5, 192.5, 12)\n",
    "num = [0,5,18,22,35,50,40,25,10,3,0,0]\n",
    "total = np.repeat(height, num)\n",
    "mu = np.mean(total)\n",
    "s = np.var(total,ddof=1) ** 0.5\n",
    "p1, p2 = stats.norm.cdf([140, 190], mu, s)\n",
    "arr = np.linspace(140,185,10)\n",
    "exp = stats.norm.cdf(arr+5, mu, s) - stats.norm.cdf(arr, mu, s)\n",
    "exp = np.insert(exp,0,p1)\n",
    "exp = np.insert(exp,len(exp),1-p2)\n",
    "exp = exp * sum(num)\n",
    "chi2, p =  stats.chisquare(num, exp, ddof=2)\n",
    "print(chi2, p)"
   ]
  },
  {
   "cell_type": "markdown",
   "id": "6d1ed460",
   "metadata": {},
   "source": [
    "根据拟合优度卡方检验的结果，身高的分布不显著不服从正态分布，chi2(df=9,N=208)=6.97,p=.64"
   ]
  },
  {
   "cell_type": "markdown",
   "id": "958781a3",
   "metadata": {},
   "source": [
    "### 3.2 推断这个学校的学生身高是否服从均值160cm，标准差15cm的正态分布"
   ]
  },
  {
   "cell_type": "code",
   "execution_count": 114,
   "id": "8d3fdf41",
   "metadata": {},
   "outputs": [
    {
     "name": "stdout",
     "output_type": "stream",
     "text": [
      "73.36977443617435 2.7820436278085996e-11\n"
     ]
    }
   ],
   "source": [
    "#仅需修改mu,s和ddof\n",
    "mu = 160\n",
    "s = 15\n",
    "p1, p2 = stats.norm.cdf([140, 190], mu, s)\n",
    "exp = stats.norm.cdf(np.linspace(140,185,10)+5, mu, s) - stats.norm.cdf(np.linspace(140,185,10), mu, s)\n",
    "exp = np.insert(exp,0,p1)\n",
    "exp = np.insert(exp,len(exp),1-p2)\n",
    "exp = exp * 208\n",
    "chi2, p = stats.chisquare(num, exp, ddof=0)\n",
    "print(chi2, p)"
   ]
  },
  {
   "cell_type": "markdown",
   "id": "bb91bea0",
   "metadata": {},
   "source": [
    "根据拟合优度卡方检验的结果，身高的分布显著不服从均值160cm,标准差15cm的正态分布，chi2(df=11,N=208)=73.37,p=.00"
   ]
  },
  {
   "cell_type": "markdown",
   "id": "f2cfab09",
   "metadata": {},
   "source": [
    "### 3.3 上面的两个问题中，分别用skewness, kurtosis, shapiro 检验，qqplot来帮助判断"
   ]
  },
  {
   "cell_type": "code",
   "execution_count": 115,
   "id": "ebe1ba42",
   "metadata": {},
   "outputs": [
    {
     "name": "stdout",
     "output_type": "stream",
     "text": [
      "-0.10726993148640684 -0.4400260980380053 ShapiroResult(statistic=0.9651120901107788, pvalue=5.185538611840457e-05)\n"
     ]
    }
   ],
   "source": [
    "skew = stats.skew(total)\n",
    "kurt = stats.kurtosis(total)\n",
    "isNorm = stats.shapiro(total)\n",
    "print(skew, kurt, isNorm)"
   ]
  },
  {
   "cell_type": "code",
   "execution_count": 116,
   "id": "e68b6bd3",
   "metadata": {},
   "outputs": [
    {
     "data": {
      "image/png": "[encoded data removed]",
      "text/plain": [
       "<Figure size 640x480 with 1 Axes>"
      ]
     },
     "metadata": {},
     "output_type": "display_data"
    }
   ],
   "source": [
    "import statsmodels.api as sm\n",
    "import matplotlib.pyplot as plt\n",
    "\n",
    "sm.qqplot(total,stats.norm, line='s')\n",
    "plt.title(\"Total's QQplot\")\n",
    "plt.show()"
   ]
  },
  {
   "cell_type": "markdown",
   "id": "ce7824b3",
   "metadata": {},
   "source": [
    "由kurtosis和Shapiro检验来看，认为显著不服正态分布，而从skewness和QQplot来看，认为不显著不服从正态分布"
   ]
  }
 ],
 "metadata": {
  "kernelspec": {
   "display_name": "Python 3 (ipykernel)",
   "language": "python",
   "name": "python3"
  },
  "language_info": {
   "codemirror_mode": {
    "name": "ipython",
    "version": 3
   },
   "file_extension": ".py",
   "mimetype": "text/x-python",
   "name": "python",
   "nbconvert_exporter": "python",
   "pygments_lexer": "ipython3",
   "version": "3.11.5"
  }
 },
 "nbformat": 4,
 "nbformat_minor": 5
}
