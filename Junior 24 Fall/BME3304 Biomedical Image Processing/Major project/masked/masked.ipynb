{
 "cells": [
  {
   "cell_type": "code",
   "execution_count": 22,
   "metadata": {},
   "outputs": [],
   "source": [
    "import nibabel as nib\n",
    "from PIL import Image\n",
    "import numpy as np\n",
    "\n",
    "# 1. 读取.nii文件\n",
    "nii_img = nib.load('s3_segmented.nii')\n",
    "nii_data = nii_img.get_fdata()\n",
    "nii_data = np.array(nii_data).T\n",
    "\n",
    "# 2. 读取.png图像\n",
    "png_img = Image.open('s3.png')\n",
    "\n",
    "# 3. 确保.nii数据和.png图像尺寸一致\n",
    "# 取.nii数据的中间切片（假设是3D数据）\n",
    "if nii_data.ndim == 3:\n",
    "    middle_slice = nii_data.shape[2] // 2\n",
    "    nii_data = nii_data[:, :, middle_slice]\n",
    "# 确保是2D数据\n",
    "assert nii_data.ndim == 2, \"nii_data must be 2D after slicing\"\n",
    "\n",
    "# 将.nii_data转换为0和255的uint8数组\n",
    "nii_data = (nii_data > 0).astype(np.uint8) * 255\n",
    "\n",
    "# 创建PIL图像\n",
    "nii_pil = Image.fromarray(nii_data)\n",
    "\n",
    "# 调整尺寸到png_img的尺寸\n",
    "nii_pil = nii_pil.resize(png_img.size, resample=Image.NEAREST)\n",
    "\n",
    "# 将nii_pil转换为numpy数组\n",
    "nii_array = np.array(nii_pil)\n",
    "\n",
    "# 4. 创建绿色半透明图层\n",
    "green_layer = np.zeros((nii_pil.height, nii_pil.width, 4), dtype=np.uint8)\n",
    "green_layer[:, :, 1] = nii_array  # 绿色通道，255表示绿色\n",
    "green_layer[:, :, 3] = np.where(nii_array > 0, 64, 0)  # alpha通道，128表示半透明\n",
    "\n",
    "# 转换回PIL图像\n",
    "green_image = Image.fromarray(green_layer)\n",
    "\n",
    "# 5. 将绿色半透明图层叠加到背景图像上\n",
    "png_img = png_img.convert(\"RGBA\")\n",
    "result = Image.alpha_composite(png_img, green_image)\n",
    "\n",
    "# 6. 保存结果图像\n",
    "result.save(r'C:\\Users\\25167\\Desktop\\123\\s3Layer.png')\n"
   ]
  },
  {
   "cell_type": "code",
   "execution_count": null,
   "metadata": {},
   "outputs": [],
   "source": []
  }
 ],
 "metadata": {
  "kernelspec": {
   "display_name": "base",
   "language": "python",
   "name": "python3"
  },
  "language_info": {
   "codemirror_mode": {
    "name": "ipython",
    "version": 3
   },
   "file_extension": ".py",
   "mimetype": "text/x-python",
   "name": "python",
   "nbconvert_exporter": "python",
   "pygments_lexer": "ipython3",
   "version": "3.11.5"
  }
 },
 "nbformat": 4,
 "nbformat_minor": 2
}
